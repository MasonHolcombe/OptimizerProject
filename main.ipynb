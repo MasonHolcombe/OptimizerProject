{
 "cells": [
  {
   "cell_type": "code",
   "execution_count": 1,
   "metadata": {},
   "outputs": [],
   "source": [
    "from Layer import Layer\n",
    "from Activations import ReLU\n",
    "from Network import Network\n",
    "from Activations import ReLU, Sigmoid\n",
    "import numpy as np"
   ]
  },
  {
   "cell_type": "code",
   "execution_count": 19,
   "metadata": {},
   "outputs": [
    {
     "data": {
      "text/plain": [
       "array([8.11311903e-21])"
      ]
     },
     "execution_count": 19,
     "metadata": {},
     "output_type": "execute_result"
    }
   ],
   "source": [
    "input = np.array([0,1,2,3,4,5,6,7,8,9])\n",
    "\n",
    "NN = Network(input)\n",
    "NN.add(Layer(len(input), ReLU()))\n",
    "NN.add(Layer(5, ReLU()))\n",
    "NN.add(Layer(6, ReLU()))\n",
    "NN.add(Layer(7, ReLU()))\n",
    "NN.add(Layer(1, Linear()))\n",
    "NN.forward()"
   ]
  },
  {
   "cell_type": "code",
   "execution_count": null,
   "metadata": {},
   "outputs": [],
   "source": []
  },
  {
   "cell_type": "code",
   "execution_count": null,
   "metadata": {},
   "outputs": [],
   "source": []
  }
 ],
 "metadata": {
  "kernelspec": {
   "display_name": "Python 3",
   "language": "python",
   "name": "python3"
  },
  "language_info": {
   "codemirror_mode": {
    "name": "ipython",
    "version": 3
   },
   "file_extension": ".py",
   "mimetype": "text/x-python",
   "name": "python",
   "nbconvert_exporter": "python",
   "pygments_lexer": "ipython3",
   "version": "3.12.1"
  }
 },
 "nbformat": 4,
 "nbformat_minor": 2
}
